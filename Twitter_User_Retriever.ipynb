{
  "nbformat": 4,
  "nbformat_minor": 0,
  "metadata": {
    "colab": {
      "name": "Twitter_User_Retriever.ipynb",
      "provenance": []
    },
    "kernelspec": {
      "name": "python3",
      "display_name": "Python 3"
    },
    "language_info": {
      "name": "python"
    }
  },
  "cells": [
    {
      "cell_type": "markdown",
      "source": [
        "To get started, click \"Runtime\" -> \"Run all\" to run the code. There will be prompts for user input after code cells 3 and 4. At the end, a CSV file will be downloaded to your computer."
      ],
      "metadata": {
        "id": "VRAfZslgM7PE"
      }
    },
    {
      "cell_type": "code",
      "execution_count": null,
      "metadata": {
        "id": "8Dfc81kWoLG9"
      },
      "outputs": [],
      "source": [
        "### IMPORTS ###\n",
        "import time\n",
        "import requests\n",
        "import math\n",
        "import pandas as pd\n",
        "from google.colab import files"
      ]
    },
    {
      "cell_type": "code",
      "source": [
        "bearer_token = \"<INSERT TOKEN HERE>\"\n",
        "\n",
        "def bearer_oauth(r):\n",
        "    r.headers[\"Authorization\"] = f\"Bearer {bearer_token}\"\n",
        "    r.headers[\"User-Agent\"] = \"v2UserLookupPython\"\n",
        "    return r\n",
        "\n",
        "def connect(url):\n",
        "    response = requests.request(\"GET\", url, auth=bearer_oauth)\n",
        "    # print(response.status_code)\n",
        "    if response.status_code != 200:\n",
        "        raise Exception(\n",
        "            \"Request returned an error: {} {}\".format(\n",
        "                response.status_code, response.text\n",
        "            )\n",
        "        )\n",
        "    return response.json()"
      ],
      "metadata": {
        "id": "J6CArqqTpp6o"
      },
      "execution_count": null,
      "outputs": []
    },
    {
      "cell_type": "code",
      "source": [
        "#get user input\n",
        "user_input = input(\"Please enter target username (case sensitive):\\t\").strip()\n",
        "usernames = \"usernames={}\".format(user_input)\n",
        "uname = usernames.split(\"=\", 1)[1]\n",
        "\n",
        "user_fields = \"user.fields=description,created_at,public_metrics\"\n",
        "# User fields are adjustable, options include:\n",
        "# created_at, description, entities, id, location, name,\n",
        "# pinned_tweet_id, profile_image_url, protected,\n",
        "# public_metrics, url, username, verified, and withheld\n",
        "url = \"https://api.twitter.com/2/users/by?{}&{}\".format(usernames, user_fields)\n",
        "\n",
        "json_response = connect(url)\n",
        "num_followers = json_response[\"data\"][0][\"public_metrics\"][\"followers_count\"]\n",
        "target_id = json_response[\"data\"][0][\"id\"]\n",
        "print(\"{} has {} followers. The twitter API only allows 15 calls in a 15 minute period. Each call retrieves 1000 usernames (max) so it will take {} minutes to fetch all follower data.\".format(uname, num_followers, math.ceil(num_followers / 1000)))\n",
        "# print(json.dumps(json_response, indent=4, sort_keys=True))"
      ],
      "metadata": {
        "colab": {
          "base_uri": "https://localhost:8080/"
        },
        "id": "qg-MkSI1pu-d",
        "outputId": "33acb9cb-0d33-4032-e85c-6d052e8af77c"
      },
      "execution_count": null,
      "outputs": [
        {
          "output_type": "stream",
          "name": "stdout",
          "text": [
            "Please enter target username (case sensitive):\n",
            "\tILYYWNFT\n",
            "ILYYWNFT has 80542 followers. The twitter API only allows 15 calls in a 15 minute period. Each call retrieves 1000 usernames (max) so it will take 81 minutes to fetch all follower data.\n"
          ]
        }
      ]
    },
    {
      "cell_type": "code",
      "source": [
        "num_desired = int(input(\"Please enter the number of desired usernames in multiples of 1000. If you would like all usernames, just hit ENTER\\n\\t\"))\n",
        "call_counter = 0\n",
        "call_count = 0\n",
        "if num_desired == \"\":\n",
        "    call_count = math.ceil(num_followers / 1000)\n",
        "else:\n",
        "    call_count = math.ceil(num_desired / 1000)\n",
        "\n",
        "\n",
        "url = \"https://api.twitter.com/2/users/{}/followers?max_results=1000\".format(target_id)\n",
        "call_count -= 1\n",
        "call_counter += 1\n",
        "json_response = connect(url)\n",
        "# print(json.dumps(json_response, indent=4, sort_keys=True))\n",
        "response_usernames = []\n",
        "for i in json_response[\"data\"]:\n",
        "    response_usernames.append(i[\"username\"])\n",
        "\n",
        "while json_response[\"meta\"][\"next_token\"] and call_count != 0:\n",
        "    if call_counter >= 14:\n",
        "        print(\"Waiting 15 minutes...\")\n",
        "        time.sleep(15 * 60 + 2)\n",
        "    url = \"https://api.twitter.com/2/users/{}/followers?max_results=1000&pagination_token={}\".format(target_id, json_response[\"meta\"][\"next_token\"])\n",
        "    call_counter += 1\n",
        "    call_count -= 1\n",
        "    json_response = connect(url)\n",
        "    for i in json_response[\"data\"]:\n",
        "        response_usernames.append(i[\"username\"])"
      ],
      "metadata": {
        "colab": {
          "base_uri": "https://localhost:8080/"
        },
        "id": "zVf_M7zapxkX",
        "outputId": "842015b9-e4f9-4283-93f1-f60af13484ca"
      },
      "execution_count": null,
      "outputs": [
        {
          "name": "stdout",
          "output_type": "stream",
          "text": [
            "Please enter the number of desired usernames in multiples of 1000. If you would like all usernames, just hit ENTER\n",
            "\t2000\n"
          ]
        }
      ]
    },
    {
      "cell_type": "code",
      "source": [
        "df = pd.DataFrame(data={\"usernames\": response_usernames})\n",
        "\n",
        "fn = \"{}_usernames.csv\".format(uname)\n",
        "df.to_csv(fn, encoding=\"utf-8\", index=False)\n",
        "\n",
        "files.download(fn)"
      ],
      "metadata": {
        "colab": {
          "base_uri": "https://localhost:8080/",
          "height": 17
        },
        "id": "0MdwOI69p17I",
        "outputId": "0b73c175-c808-4278-ee35-05388aca1459"
      },
      "execution_count": null,
      "outputs": [
        {
          "output_type": "display_data",
          "data": {
            "text/plain": [
              "<IPython.core.display.Javascript object>"
            ],
            "application/javascript": [
              "\n",
              "    async function download(id, filename, size) {\n",
              "      if (!google.colab.kernel.accessAllowed) {\n",
              "        return;\n",
              "      }\n",
              "      const div = document.createElement('div');\n",
              "      const label = document.createElement('label');\n",
              "      label.textContent = `Downloading \"${filename}\": `;\n",
              "      div.appendChild(label);\n",
              "      const progress = document.createElement('progress');\n",
              "      progress.max = size;\n",
              "      div.appendChild(progress);\n",
              "      document.body.appendChild(div);\n",
              "\n",
              "      const buffers = [];\n",
              "      let downloaded = 0;\n",
              "\n",
              "      const channel = await google.colab.kernel.comms.open(id);\n",
              "      // Send a message to notify the kernel that we're ready.\n",
              "      channel.send({})\n",
              "\n",
              "      for await (const message of channel.messages) {\n",
              "        // Send a message to notify the kernel that we're ready.\n",
              "        channel.send({})\n",
              "        if (message.buffers) {\n",
              "          for (const buffer of message.buffers) {\n",
              "            buffers.push(buffer);\n",
              "            downloaded += buffer.byteLength;\n",
              "            progress.value = downloaded;\n",
              "          }\n",
              "        }\n",
              "      }\n",
              "      const blob = new Blob(buffers, {type: 'application/binary'});\n",
              "      const a = document.createElement('a');\n",
              "      a.href = window.URL.createObjectURL(blob);\n",
              "      a.download = filename;\n",
              "      div.appendChild(a);\n",
              "      a.click();\n",
              "      div.remove();\n",
              "    }\n",
              "  "
            ]
          },
          "metadata": {}
        },
        {
          "output_type": "display_data",
          "data": {
            "text/plain": [
              "<IPython.core.display.Javascript object>"
            ],
            "application/javascript": [
              "download(\"download_26f05257-bcee-416f-a308-f83c099ee62a\", \"ILYYWNFT_usernames.csv\", 25944)"
            ]
          },
          "metadata": {}
        }
      ]
    }
  ]
}